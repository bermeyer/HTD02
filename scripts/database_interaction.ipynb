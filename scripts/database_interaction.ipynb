{
 "cells": [
  {
   "cell_type": "markdown",
   "metadata": {},
   "source": [
    "## Interacting with the MySQL Database\n",
    "\n",
    "To interact with your MySQL database, you can create an instance of the `MySQLDatabase` class. You can do this in two ways: by explicitly initializing the object or by using the `from_config` class method, which retrieves configuration details from your local `config/config.json` file."
   ]
  },
  {
   "cell_type": "code",
   "execution_count": null,
   "metadata": {},
   "outputs": [],
   "source": [
    "from mysql_database import MySQLDatabase\n",
    "\n",
    "# Create a MySQLDatabase instance using the local config/config.json file.\n",
    "db = MySQLDatabase.from_config(mode='development')\n",
    "\n",
    "# Alternatively, you can create a MySQLDatabase instance using the parameters directly.\n",
    "# db = MySQLDatabase(\n",
    "#     database=\"my_database_name\",\n",
    "#     username=\"my_username\",\n",
    "#     password=\"my_password\",\n",
    "#     host=\"my_host\",\n",
    "#     port=3307,\n",
    "# )"
   ]
  },
  {
   "cell_type": "markdown",
   "metadata": {},
   "source": [
    "## Executing Queries\n",
    "Once you have an instance of `MySQLDatabase`, you can execute SQL queries and retrieve results in a convenient format. The `query_to_dataframe` method allows you to run a SQL query and return the results as a pandas `DataFrame`, making it easy to manipulate and analyze the data."
   ]
  },
  {
   "cell_type": "code",
   "execution_count": null,
   "metadata": {},
   "outputs": [],
   "source": [
    "# Fetch user table\n",
    "user_df = db.query_to_dataframe(f\"SELECT * FROM Users\")\n",
    "user_df"
   ]
  },
  {
   "cell_type": "code",
   "execution_count": null,
   "metadata": {},
   "outputs": [],
   "source": [
    "# Fetch post table\n",
    "posts_df = db.query_to_dataframe(f\"SELECT * FROM Posts\")\n",
    "posts_df"
   ]
  },
  {
   "cell_type": "code",
   "execution_count": null,
   "metadata": {},
   "outputs": [],
   "source": [
    "# Fetch all posts from a specific user\n",
    "user_id = 1\n",
    "posts_from_user_1_df = db.query_to_dataframe(f\"SELECT * FROM Posts WHERE user_id = {user_id}\")\n",
    "posts_from_user_1_df"
   ]
  },
  {
   "cell_type": "code",
   "execution_count": null,
   "metadata": {},
   "outputs": [],
   "source": [
    "# Fetch user views\n",
    "user_views_df = db.query_to_dataframe(f\"SELECT * FROM UserViews\")\n",
    "user_views_df"
   ]
  }
 ],
 "metadata": {
  "kernelspec": {
   "display_name": "humdet",
   "language": "python",
   "name": "python3"
  },
  "language_info": {
   "codemirror_mode": {
    "name": "ipython",
    "version": 3
   },
   "file_extension": ".py",
   "mimetype": "text/x-python",
   "name": "python",
   "nbconvert_exporter": "python",
   "pygments_lexer": "ipython3",
   "version": "3.9.14"
  }
 },
 "nbformat": 4,
 "nbformat_minor": 2
}
